{
 "cells": [
  {
   "cell_type": "code",
   "execution_count": 1,
   "metadata": {},
   "outputs": [],
   "source": [
    "import torch"
   ]
  },
  {
   "cell_type": "code",
   "execution_count": 5,
   "metadata": {},
   "outputs": [
    {
     "name": "stdout",
     "output_type": "stream",
     "text": [
      "tensor([ 0.0000,  1.1000,  2.2000,  3.3000,  4.4000,  5.5000,  6.6000,  7.7000,\n",
      "         8.8000,  9.9000, 11.0000])\n"
     ]
    },
    {
     "data": {
      "text/plain": [
       "10"
      ]
     },
     "execution_count": 5,
     "metadata": {},
     "output_type": "execute_result"
    }
   ],
   "source": [
    "def cosine_schedule(timesteps, s=0.008):\n",
    "    \"\"\"\n",
    "    Defines the cosine schedule for the diffusion process,\n",
    "    as proposed in https://openreview.net/forum?id=-NEXDKk8gZ\n",
    "    Args:\n",
    "        timesteps: The number of timesteps.\n",
    "        s: The strength of the schedule.\n",
    "    Returns:\n",
    "        The computed alpha.\n",
    "    \"\"\"\n",
    "    steps = timesteps + 1\n",
    "    x = torch.linspace(0, steps, steps)\n",
    "    alphas_cumprod = torch.cos(((x / steps) + s) / (1 + s) * torch.pi * 0.5) ** 2\n",
    "    alphas_cumprod = alphas_cumprod / alphas_cumprod[0]\n",
    "    alphas = alphas_cumprod[1:] / alphas_cumprod[:-1]\n",
    "    return torch.clip(alphas, 0.001, 1)\n",
    "\n",
    "cosine_schedule(10).shape[0]"
   ]
  },
  {
   "cell_type": "code",
   "execution_count": null,
   "metadata": {},
   "outputs": [],
   "source": [
    "from google.colab import drive\n",
    "drive.mount('/content/drive')\n",
    "%cd path_to_your_project\n",
    "!pwd"
   ]
  },
  {
   "cell_type": "code",
   "execution_count": null,
   "metadata": {},
   "outputs": [],
   "source": [
    "# Download the dataset afhq_v2.zip (6.48G)\n",
    "!mkdir -p ./data\n",
    "!wget -N https://www.dropbox.com/s/vkzjokiwof5h8w6/afhq_v2.zip?dl=0 -O ./data/afhq_v2.zip\n",
    "!unzip -q ./data/afhq_v2.zip -d ./data"
   ]
  },
  {
   "cell_type": "code",
   "execution_count": null,
   "metadata": {},
   "outputs": [],
   "source": [
    "# Set up the environment\n",
    "!pip install -r requirements.txt"
   ]
  },
  {
   "cell_type": "code",
   "execution_count": null,
   "metadata": {},
   "outputs": [],
   "source": [
    "# Train the model: If you use colab to train the model, the training process will probably take 2 hours.\n",
    "!python main.py \\\n",
    "    --data_path ./data/train \\\n",
    "    --save_folder path_to_save_folder \\\n",
    "    --time_steps 50 \\\n",
    "    --train_steps 10000 \\\n",
    "    --image_size 32 \\\n",
    "    --batch_size 32 \\\n",
    "    --learning_rate 1e-3 \\\n",
    "    --unet_dim 16"
   ]
  },
  {
   "cell_type": "code",
   "execution_count": null,
   "metadata": {},
   "outputs": [],
   "source": [
    "# Visualize the forward and backward process\n",
    "!python main.py \\\n",
    "    --data_path ./data/train/ \\\n",
    "    --load_path path_to_saved_model \\\n",
    "    --save_folder path_to_save_folder \\\n",
    "    --time_steps 50 \\\n",
    "    --train_steps 10000 \\\n",
    "    --image_size 32 \\\n",
    "    --batch_size 32 \\\n",
    "    --learning_rate 1e-3 \\\n",
    "    --unet_dim 16 \\\n",
    "    --visualize"
   ]
  }
 ],
 "metadata": {
  "kernelspec": {
   "display_name": "venv",
   "language": "python",
   "name": "python3"
  },
  "language_info": {
   "codemirror_mode": {
    "name": "ipython",
    "version": 3
   },
   "file_extension": ".py",
   "mimetype": "text/x-python",
   "name": "python",
   "nbconvert_exporter": "python",
   "pygments_lexer": "ipython3",
   "version": "3.11.3"
  }
 },
 "nbformat": 4,
 "nbformat_minor": 2
}
